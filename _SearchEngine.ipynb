{
 "cells": [
  {
   "cell_type": "markdown",
   "metadata": {},
   "source": [
    "Build Your Own News Search Engine\n",
    "\n",
    "Objective: Use text feature engineering (TF-IDF) and some rules to make our first search engine for news articles. For any input query, we’ll present the five  most relevant news articles. \n",
    "\n",
    "Problem Statement: \n",
    "Reuters Ltd. is an international news agency headquartered in London and is a division of Thomson Reuters. The data was originally collected and labeled by Carnegie Group Inc. and Reuters Ltd. in the course of developing the construe text categorization system. \n",
    "\n",
    "An important step before assessing similarity between documents, or between documents and a search query, is the right representation i.e., correct feature engineering. We’ll make a process that provides the most similar news articles to a given text string (search query).\n",
    "\n",
    "Domain: News\n",
    "\n",
    "Analysis to be done: Document similarity assessment to a search query using Tf-Idf\n",
    "\n",
    "Content: \n",
    "Dataset: ‘r8-all-terms.txt’\n",
    "Dataset has no header. For each row, it has a  label and the article text.\n",
    "\n",
    "\n"
   ]
  },
  {
   "cell_type": "code",
   "execution_count": null,
   "metadata": {},
   "outputs": [],
   "source": []
  },
  {
   "cell_type": "code",
   "execution_count": 1,
   "metadata": {},
   "outputs": [],
   "source": [
    "import pandas as pd\n",
    "import numpy as np\n",
    "import pickle\n",
    "import sys\n",
    "import os\n",
    "import io\n",
    "import re\n",
    "from sys import path\n",
    "import numpy as np\n",
    "import pickle\n",
    "from sklearn.feature_extraction.text import CountVectorizer\n",
    "from sklearn.naive_bayes import MultinomialNB\n",
    "from sklearn.model_selection import train_test_split\n",
    "from sklearn.preprocessing import LabelBinarizer\n",
    "import matplotlib.pyplot as plt\n",
    "from string import punctuation, digits\n",
    "from IPython.core.display import display, HTML\n",
    "from nltk.corpus import stopwords\n",
    "from nltk.corpus import stopwords\n",
    "from nltk.tokenize import word_tokenize\n",
    "from nltk.tokenize import RegexpTokenizer"
   ]
  },
  {
   "cell_type": "markdown",
   "metadata": {},
   "source": [
    "Using pandas, read in the text file\n",
    "\n",
    "    Use the right delimiter\n",
    "\n",
    "    The file has no header, while loading, give column names as label, text"
   ]
  },
  {
   "cell_type": "code",
   "execution_count": 2,
   "metadata": {},
   "outputs": [],
   "source": [
    "doc = 'r8-all-terms.txt'\n",
    "data = pd.read_table(doc, sep='\\t',names=['Label','Text']) #use read_csv too\n",
    "#data.columns=['Label', 'Text']"
   ]
  },
  {
   "cell_type": "code",
   "execution_count": 3,
   "metadata": {},
   "outputs": [
    {
     "data": {
      "text/plain": [
       "earn        2840\n",
       "acq         1596\n",
       "crude        253\n",
       "trade        251\n",
       "money-fx     206\n",
       "interest     190\n",
       "ship         108\n",
       "grain         41\n",
       "Name: Label, dtype: int64"
      ]
     },
     "execution_count": 3,
     "metadata": {},
     "output_type": "execute_result"
    }
   ],
   "source": [
    "data.Label.value_counts()"
   ]
  },
  {
   "cell_type": "code",
   "execution_count": 4,
   "metadata": {},
   "outputs": [
    {
     "data": {
      "text/html": [
       "<div>\n",
       "<style scoped>\n",
       "    .dataframe tbody tr th:only-of-type {\n",
       "        vertical-align: middle;\n",
       "    }\n",
       "\n",
       "    .dataframe tbody tr th {\n",
       "        vertical-align: top;\n",
       "    }\n",
       "\n",
       "    .dataframe thead th {\n",
       "        text-align: right;\n",
       "    }\n",
       "</style>\n",
       "<table border=\"1\" class=\"dataframe\">\n",
       "  <thead>\n",
       "    <tr style=\"text-align: right;\">\n",
       "      <th></th>\n",
       "      <th>Label</th>\n",
       "      <th>Text</th>\n",
       "    </tr>\n",
       "  </thead>\n",
       "  <tbody>\n",
       "    <tr>\n",
       "      <th>0</th>\n",
       "      <td>earn</td>\n",
       "      <td>champion products ch approves stock split cham...</td>\n",
       "    </tr>\n",
       "    <tr>\n",
       "      <th>1</th>\n",
       "      <td>acq</td>\n",
       "      <td>computer terminal systems cpml completes sale ...</td>\n",
       "    </tr>\n",
       "    <tr>\n",
       "      <th>2</th>\n",
       "      <td>earn</td>\n",
       "      <td>cobanco inc cbco year net shr cts vs dlrs net ...</td>\n",
       "    </tr>\n",
       "    <tr>\n",
       "      <th>3</th>\n",
       "      <td>earn</td>\n",
       "      <td>am international inc am nd qtr jan oper shr lo...</td>\n",
       "    </tr>\n",
       "    <tr>\n",
       "      <th>4</th>\n",
       "      <td>earn</td>\n",
       "      <td>brown forman inc bfd th qtr net shr one dlr vs...</td>\n",
       "    </tr>\n",
       "    <tr>\n",
       "      <th>...</th>\n",
       "      <td>...</td>\n",
       "      <td>...</td>\n",
       "    </tr>\n",
       "    <tr>\n",
       "      <th>5480</th>\n",
       "      <td>earn</td>\n",
       "      <td>kelly oil and gas partners kly year dec shr ct...</td>\n",
       "    </tr>\n",
       "    <tr>\n",
       "      <th>5481</th>\n",
       "      <td>money-fx</td>\n",
       "      <td>japan seeks to strengthen paris currency accor...</td>\n",
       "    </tr>\n",
       "    <tr>\n",
       "      <th>5482</th>\n",
       "      <td>earn</td>\n",
       "      <td>tcw convertible securities cvt sets dividend t...</td>\n",
       "    </tr>\n",
       "    <tr>\n",
       "      <th>5483</th>\n",
       "      <td>money-fx</td>\n",
       "      <td>south korean won fixed at month high the bank ...</td>\n",
       "    </tr>\n",
       "    <tr>\n",
       "      <th>5484</th>\n",
       "      <td>ship</td>\n",
       "      <td>australian unions launch new south wales strik...</td>\n",
       "    </tr>\n",
       "  </tbody>\n",
       "</table>\n",
       "<p>5485 rows × 2 columns</p>\n",
       "</div>"
      ],
      "text/plain": [
       "         Label                                               Text\n",
       "0         earn  champion products ch approves stock split cham...\n",
       "1          acq  computer terminal systems cpml completes sale ...\n",
       "2         earn  cobanco inc cbco year net shr cts vs dlrs net ...\n",
       "3         earn  am international inc am nd qtr jan oper shr lo...\n",
       "4         earn  brown forman inc bfd th qtr net shr one dlr vs...\n",
       "...        ...                                                ...\n",
       "5480      earn  kelly oil and gas partners kly year dec shr ct...\n",
       "5481  money-fx  japan seeks to strengthen paris currency accor...\n",
       "5482      earn  tcw convertible securities cvt sets dividend t...\n",
       "5483  money-fx  south korean won fixed at month high the bank ...\n",
       "5484      ship  australian unions launch new south wales strik...\n",
       "\n",
       "[5485 rows x 2 columns]"
      ]
     },
     "execution_count": 4,
     "metadata": {},
     "output_type": "execute_result"
    }
   ],
   "source": [
    "data"
   ]
  },
  {
   "cell_type": "code",
   "execution_count": 5,
   "metadata": {},
   "outputs": [
    {
     "data": {
      "text/plain": [
       "'champion products ch approves stock split champion products inc said its board of directors approved a two for one stock split of its common shares for shareholders of record as of april the company also said its board voted to recommend to shareholders at the annual meeting april an increase in the authorized capital stock from five mln to mln shares reuter '"
      ]
     },
     "execution_count": 5,
     "metadata": {},
     "output_type": "execute_result"
    }
   ],
   "source": [
    "data.Text[0]"
   ]
  },
  {
   "cell_type": "markdown",
   "metadata": {},
   "source": [
    "Get the text data into a list for easy manipulation"
   ]
  },
  {
   "cell_type": "code",
   "execution_count": 6,
   "metadata": {},
   "outputs": [],
   "source": [
    "article= data.Text.values"
   ]
  },
  {
   "cell_type": "code",
   "execution_count": 7,
   "metadata": {},
   "outputs": [
    {
     "data": {
      "text/plain": [
       "5485"
      ]
     },
     "execution_count": 7,
     "metadata": {},
     "output_type": "execute_result"
    }
   ],
   "source": [
    "len(article)"
   ]
  },
  {
   "cell_type": "code",
   "execution_count": 8,
   "metadata": {},
   "outputs": [
    {
     "data": {
      "text/plain": [
       "array(['champion products ch approves stock split champion products inc said its board of directors approved a two for one stock split of its common shares for shareholders of record as of april the company also said its board voted to recommend to shareholders at the annual meeting april an increase in the authorized capital stock from five mln to mln shares reuter ',\n",
       "       'computer terminal systems cpml completes sale computer terminal systems inc said it has completed the sale of shares of its common stock and warrants to acquire an additional one mln shares to sedio n v of lugano switzerland for dlrs the company said the warrants are exercisable for five years at a purchase price of dlrs per share computer terminal said sedio also has the right to buy additional shares and increase its total holdings up to pct of the computer terminal s outstanding common stock under certain circumstances involving change of control at the company the company said if the conditions occur the warrants would be exercisable at a price equal to pct of its common stock s market price at the time not to exceed dlrs per share computer terminal also said it sold the technolgy rights to its dot matrix impact technology including any future improvements to woodco inc of houston tex for dlrs but it said it would continue to be the exclusive worldwide licensee of the technology for woodco the company said the moves were part of its reorganization plan and would help pay current operation costs and ensure product delivery computer terminal makes computer generated labels forms tags and ticket printers and terminals reuter ',\n",
       "       'cobanco inc cbco year net shr cts vs dlrs net vs assets mln vs mln deposits mln vs mln loans mln vs mln note th qtr not available year includes extraordinary gain from tax carry forward of dlrs or five cts per shr reuter ',\n",
       "       'am international inc am nd qtr jan oper shr loss two cts vs profit seven cts oper shr profit vs profit revs mln vs mln avg shrs mln vs mln six mths oper shr profit nil vs profit cts oper net profit vs profit revs mln vs mln avg shrs mln vs mln note per shr calculated after payment of preferred dividends results exclude credits of or four cts and or nine cts for qtr and six mths vs or six cts and or cts for prior periods from operating loss carryforwards reuter '],\n",
       "      dtype=object)"
      ]
     },
     "execution_count": 8,
     "metadata": {},
     "output_type": "execute_result"
    }
   ],
   "source": [
    "article[:4]"
   ]
  },
  {
   "cell_type": "markdown",
   "metadata": {},
   "source": [
    "Preprocess method 1"
   ]
  },
  {
   "cell_type": "code",
   "execution_count": 9,
   "metadata": {},
   "outputs": [],
   "source": [
    "import nltk"
   ]
  },
  {
   "cell_type": "code",
   "execution_count": 10,
   "metadata": {},
   "outputs": [],
   "source": [
    "import gensim\n",
    "from gensim.utils import simple_preprocess\n",
    "from gensim.parsing.preprocessing import STOPWORDS"
   ]
  },
  {
   "cell_type": "code",
   "execution_count": 11,
   "metadata": {},
   "outputs": [],
   "source": [
    "def preprocess(input):\n",
    "    result=[]\n",
    "    for token in gensim.utils.simple_preprocess(input) :\n",
    "        if token not in gensim.parsing.preprocessing.STOPWORDS and len(token) > 3:\n",
    "            result.append(token)\n",
    "            \n",
    "    return result"
   ]
  },
  {
   "cell_type": "code",
   "execution_count": 12,
   "metadata": {},
   "outputs": [
    {
     "name": "stdout",
     "output_type": "stream",
     "text": [
      "[['champion', 'products', 'approves', 'stock', 'split', 'champion', 'products', 'said', 'board', 'directors', 'approved', 'stock', 'split', 'common', 'shares', 'shareholders', 'record', 'april', 'company', 'said', 'board', 'voted', 'recommend', 'shareholders', 'annual', 'meeting', 'april', 'increase', 'authorized', 'capital', 'stock', 'shares', 'reuter'], ['terminal', 'systems', 'cpml', 'completes', 'sale', 'terminal', 'systems', 'said', 'completed', 'sale', 'shares', 'common', 'stock', 'warrants', 'acquire', 'additional', 'shares', 'sedio', 'lugano', 'switzerland', 'dlrs', 'company', 'said', 'warrants', 'exercisable', 'years', 'purchase', 'price', 'dlrs', 'share', 'terminal', 'said', 'sedio', 'right', 'additional', 'shares', 'increase', 'total', 'holdings', 'terminal', 'outstanding', 'common', 'stock', 'certain', 'circumstances', 'involving', 'change', 'control', 'company', 'company', 'said', 'conditions', 'occur', 'warrants', 'exercisable', 'price', 'equal', 'common', 'stock', 'market', 'price', 'time', 'exceed', 'dlrs', 'share', 'terminal', 'said', 'sold', 'technolgy', 'rights', 'matrix', 'impact', 'technology', 'including', 'future', 'improvements', 'woodco', 'houston', 'dlrs', 'said', 'continue', 'exclusive', 'worldwide', 'licensee', 'technology', 'woodco', 'company', 'said', 'moves', 'reorganization', 'plan', 'help', 'current', 'operation', 'costs', 'ensure', 'product', 'delivery', 'terminal', 'makes', 'generated', 'labels', 'forms', 'tags', 'ticket', 'printers', 'terminals', 'reuter']]\n"
     ]
    }
   ],
   "source": [
    "#now we preprocess all the news headline we have, we iterate the list of docs in our training sample \n",
    "processed_docs = []\n",
    "\n",
    "for sentence in article:\n",
    "    processed_docs.append(preprocess(sentence))\n",
    "\n",
    "print(processed_docs[:2])\n"
   ]
  },
  {
   "cell_type": "code",
   "execution_count": 13,
   "metadata": {},
   "outputs": [],
   "source": [
    "#BOW in the dataset\n",
    "\n",
    "dictionary = gensim.corpora.Dictionary(processed_docs)\n"
   ]
  },
  {
   "cell_type": "code",
   "execution_count": 14,
   "metadata": {},
   "outputs": [
    {
     "name": "stdout",
     "output_type": "stream",
     "text": [
      "0 annual\n",
      "1 approved\n",
      "2 approves\n",
      "3 april\n",
      "4 authorized\n",
      "5 board\n",
      "6 capital\n",
      "7 champion\n",
      "8 common\n",
      "9 company\n",
      "10 directors\n"
     ]
    }
   ],
   "source": [
    "count = 0\n",
    "for k, v in dictionary.iteritems():\n",
    "    print(k, v)\n",
    "    count += 1\n",
    "    if count > 10:\n",
    "        break\n"
   ]
  },
  {
   "cell_type": "markdown",
   "metadata": {},
   "source": [
    "Gensim filter_extremes filter out tokrns that appear in:\n",
    "\n",
    "less than no_below docs(absolute number) or\n",
    "more than no_above docs(fraction of total corpus size, not abs number)\n",
    "after (1) and (2) keep only the first keep_n most freq tokens(or keep all if None)"
   ]
  },
  {
   "cell_type": "code",
   "execution_count": 15,
   "metadata": {},
   "outputs": [],
   "source": [
    "dictionary.filter_extremes(no_below=15, no_above=0.1, keep_n= 100000)\n"
   ]
  },
  {
   "cell_type": "markdown",
   "metadata": {},
   "source": [
    "Gensim doc2bow\n",
    "\n",
    "\n",
    "Convert document (a list of words) into the bag-of-words format = list of (token_id, token_count) 2-tuples.\n",
    "Each word is assumed to be a tokenized and normalized string (either unicode or utf8-encoded). \n",
    "No further preprocessing is done on the words in the document; apply tokenization, stemming, etc. \n",
    "before calling this method.\n",
    "\n",
    "● Create the bag-of-words model for each document i.e for each document we create a dictionary reporting how \n",
    "many words and how many times those words appear. Save this to 'bow_corpus'"
   ]
  },
  {
   "cell_type": "code",
   "execution_count": 16,
   "metadata": {},
   "outputs": [
    {
     "name": "stdout",
     "output_type": "stream",
     "text": [
      "Word 27 (\"delivery\") appears 1 time.\n",
      "Word 100 (\"chicago\") appears 4 time.\n",
      "Word 154 (\"lower\") appears 2 time.\n",
      "Word 157 (\"outlook\") appears 1 time.\n",
      "Word 164 (\"rates\") appears 2 time.\n",
      "Word 170 (\"today\") appears 1 time.\n",
      "Word 234 (\"offered\") appears 10 time.\n",
      "Word 306 (\"ships\") appears 1 time.\n",
      "Word 307 (\"south\") appears 2 time.\n",
      "Word 340 (\"dealers\") appears 1 time.\n",
      "Word 341 (\"demand\") appears 1 time.\n",
      "Word 342 (\"exchange\") appears 1 time.\n",
      "Word 343 (\"firmed\") appears 1 time.\n",
      "Word 344 (\"freight\") appears 2 time.\n",
      "Word 345 (\"gulf\") appears 3 time.\n",
      "Word 346 (\"illinois\") appears 4 time.\n",
      "Word 347 (\"included\") appears 1 time.\n",
      "Word 348 (\"increasing\") appears 1 time.\n",
      "Word 349 (\"level\") appears 1 time.\n",
      "Word 350 (\"ohio\") appears 2 time.\n",
      "Word 351 (\"percentage\") appears 1 time.\n",
      "Word 352 (\"points\") appears 4 time.\n",
      "Word 353 (\"quoted\") appears 1 time.\n",
      "Word 354 (\"river\") appears 9 time.\n",
      "Word 355 (\"section\") appears 1 time.\n",
      "Word 356 (\"sept\") appears 2 time.\n",
      "Word 357 (\"session\") appears 1 time.\n",
      "Word 358 (\"station\") appears 1 time.\n",
      "Word 359 (\"supply\") appears 1 time.\n",
      "Word 360 (\"tariff\") appears 1 time.\n",
      "Word 361 (\"traded\") appears 2 time.\n",
      "Word 362 (\"versus\") appears 1 time.\n",
      "Word 363 (\"vessel\") appears 1 time.\n",
      "Word 364 (\"week\") appears 4 time.\n",
      "Word 365 (\"yesterday\") appears 2 time.\n"
     ]
    }
   ],
   "source": [
    "bow_corpus = [dictionary.doc2bow(i) for i in processed_docs]\n",
    "\n",
    "document_num = 20\n",
    "bow_doc_x = bow_corpus[document_num]\n",
    "\n",
    "for i in range(len(bow_doc_x)):\n",
    "    print(\"Word {} (\\\"{}\\\") appears {} time.\".format(bow_doc_x[i][0], \n",
    "                                                     dictionary[bow_doc_x[i][0]], \n",
    "                                                     bow_doc_x[i][1]))"
   ]
  },
  {
   "cell_type": "code",
   "execution_count": null,
   "metadata": {},
   "outputs": [],
   "source": []
  },
  {
   "cell_type": "code",
   "execution_count": null,
   "metadata": {},
   "outputs": [],
   "source": []
  },
  {
   "cell_type": "markdown",
   "metadata": {},
   "source": [
    "Preprocess method 2"
   ]
  },
  {
   "cell_type": "markdown",
   "metadata": {},
   "source": [
    "Case normalization"
   ]
  },
  {
   "cell_type": "code",
   "execution_count": 17,
   "metadata": {},
   "outputs": [
    {
     "data": {
      "text/plain": [
       "['champion products ch approves stock split champion products inc said its board of directors approved a two for one stock split of its common shares for shareholders of record as of april the company also said its board voted to recommend to shareholders at the annual meeting april an increase in the authorized capital stock from five mln to mln shares reuter ',\n",
       " 'computer terminal systems cpml completes sale computer terminal systems inc said it has completed the sale of shares of its common stock and warrants to acquire an additional one mln shares to sedio n v of lugano switzerland for dlrs the company said the warrants are exercisable for five years at a purchase price of dlrs per share computer terminal said sedio also has the right to buy additional shares and increase its total holdings up to pct of the computer terminal s outstanding common stock under certain circumstances involving change of control at the company the company said if the conditions occur the warrants would be exercisable at a price equal to pct of its common stock s market price at the time not to exceed dlrs per share computer terminal also said it sold the technolgy rights to its dot matrix impact technology including any future improvements to woodco inc of houston tex for dlrs but it said it would continue to be the exclusive worldwide licensee of the technology for woodco the company said the moves were part of its reorganization plan and would help pay current operation costs and ensure product delivery computer terminal makes computer generated labels forms tags and ticket printers and terminals reuter ']"
      ]
     },
     "execution_count": 17,
     "metadata": {},
     "output_type": "execute_result"
    }
   ],
   "source": [
    "article_lower = [art.lower() for art in article]\n",
    "article_lower[:2]"
   ]
  },
  {
   "cell_type": "markdown",
   "metadata": {},
   "source": [
    "Tokenize the articles\n",
    "    \n",
    "    Use NLTKs word_tokenize for this"
   ]
  },
  {
   "cell_type": "code",
   "execution_count": 18,
   "metadata": {},
   "outputs": [
    {
     "name": "stdout",
     "output_type": "stream",
     "text": [
      "[['champion', 'products', 'ch', 'approves', 'stock', 'split', 'champion', 'products', 'inc', 'said', 'its', 'board', 'of', 'directors', 'approved', 'a', 'two', 'for', 'one', 'stock', 'split', 'of', 'its', 'common', 'shares', 'for', 'shareholders', 'of', 'record', 'as', 'of', 'april', 'the', 'company', 'also', 'said', 'its', 'board', 'voted', 'to', 'recommend', 'to', 'shareholders', 'at', 'the', 'annual', 'meeting', 'april', 'an', 'increase', 'in', 'the', 'authorized', 'capital', 'stock', 'from', 'five', 'mln', 'to', 'mln', 'shares', 'reuter'], ['computer', 'terminal', 'systems', 'cpml', 'completes', 'sale', 'computer', 'terminal', 'systems', 'inc', 'said', 'it', 'has', 'completed', 'the', 'sale', 'of', 'shares', 'of', 'its', 'common', 'stock', 'and', 'warrants', 'to', 'acquire', 'an', 'additional', 'one', 'mln', 'shares', 'to', 'sedio', 'n', 'v', 'of', 'lugano', 'switzerland', 'for', 'dlrs', 'the', 'company', 'said', 'the', 'warrants', 'are', 'exercisable', 'for', 'five', 'years', 'at', 'a', 'purchase', 'price', 'of', 'dlrs', 'per', 'share', 'computer', 'terminal', 'said', 'sedio', 'also', 'has', 'the', 'right', 'to', 'buy', 'additional', 'shares', 'and', 'increase', 'its', 'total', 'holdings', 'up', 'to', 'pct', 'of', 'the', 'computer', 'terminal', 's', 'outstanding', 'common', 'stock', 'under', 'certain', 'circumstances', 'involving', 'change', 'of', 'control', 'at', 'the', 'company', 'the', 'company', 'said', 'if', 'the', 'conditions', 'occur', 'the', 'warrants', 'would', 'be', 'exercisable', 'at', 'a', 'price', 'equal', 'to', 'pct', 'of', 'its', 'common', 'stock', 's', 'market', 'price', 'at', 'the', 'time', 'not', 'to', 'exceed', 'dlrs', 'per', 'share', 'computer', 'terminal', 'also', 'said', 'it', 'sold', 'the', 'technolgy', 'rights', 'to', 'its', 'dot', 'matrix', 'impact', 'technology', 'including', 'any', 'future', 'improvements', 'to', 'woodco', 'inc', 'of', 'houston', 'tex', 'for', 'dlrs', 'but', 'it', 'said', 'it', 'would', 'continue', 'to', 'be', 'the', 'exclusive', 'worldwide', 'licensee', 'of', 'the', 'technology', 'for', 'woodco', 'the', 'company', 'said', 'the', 'moves', 'were', 'part', 'of', 'its', 'reorganization', 'plan', 'and', 'would', 'help', 'pay', 'current', 'operation', 'costs', 'and', 'ensure', 'product', 'delivery', 'computer', 'terminal', 'makes', 'computer', 'generated', 'labels', 'forms', 'tags', 'and', 'ticket', 'printers', 'and', 'terminals', 'reuter'], ['cobanco', 'inc', 'cbco', 'year', 'net', 'shr', 'cts', 'vs', 'dlrs', 'net', 'vs', 'assets', 'mln', 'vs', 'mln', 'deposits', 'mln', 'vs', 'mln', 'loans', 'mln', 'vs', 'mln', 'note', 'th', 'qtr', 'not', 'available', 'year', 'includes', 'extraordinary', 'gain', 'from', 'tax', 'carry', 'forward', 'of', 'dlrs', 'or', 'five', 'cts', 'per', 'shr', 'reuter']]\n"
     ]
    }
   ],
   "source": [
    "article_tokens = [word_tokenize(art) for art in article_lower]\n",
    "print(article_tokens[:3])"
   ]
  },
  {
   "cell_type": "markdown",
   "metadata": {},
   "source": [
    "Remove stop words"
   ]
  },
  {
   "cell_type": "code",
   "execution_count": 19,
   "metadata": {},
   "outputs": [],
   "source": [
    "from nltk.corpus import stopwords\n",
    "\n",
    "stop_nltk = stopwords.words(\"english\")"
   ]
  },
  {
   "cell_type": "code",
   "execution_count": 20,
   "metadata": {},
   "outputs": [
    {
     "data": {
      "text/plain": [
       "['i', 'me', 'my', 'myself', 'we', 'our', 'ours', 'ourselves', 'you', \"you're\"]"
      ]
     },
     "execution_count": 20,
     "metadata": {},
     "output_type": "execute_result"
    }
   ],
   "source": [
    "stop_nltk[:10]"
   ]
  },
  {
   "cell_type": "code",
   "execution_count": 21,
   "metadata": {},
   "outputs": [],
   "source": [
    "def del_stop(input):\n",
    "    res = [term for term in input if term not in stop_nltk]\n",
    "    return res"
   ]
  },
  {
   "cell_type": "code",
   "execution_count": 22,
   "metadata": {},
   "outputs": [],
   "source": [
    "article_delstop = [del_stop(art) for art in article_tokens] "
   ]
  },
  {
   "cell_type": "code",
   "execution_count": 23,
   "metadata": {},
   "outputs": [
    {
     "data": {
      "text/plain": [
       "[['champion',\n",
       "  'products',\n",
       "  'ch',\n",
       "  'approves',\n",
       "  'stock',\n",
       "  'split',\n",
       "  'champion',\n",
       "  'products',\n",
       "  'inc',\n",
       "  'said',\n",
       "  'board',\n",
       "  'directors',\n",
       "  'approved',\n",
       "  'two',\n",
       "  'one',\n",
       "  'stock',\n",
       "  'split',\n",
       "  'common',\n",
       "  'shares',\n",
       "  'shareholders',\n",
       "  'record',\n",
       "  'april',\n",
       "  'company',\n",
       "  'also',\n",
       "  'said',\n",
       "  'board',\n",
       "  'voted',\n",
       "  'recommend',\n",
       "  'shareholders',\n",
       "  'annual',\n",
       "  'meeting',\n",
       "  'april',\n",
       "  'increase',\n",
       "  'authorized',\n",
       "  'capital',\n",
       "  'stock',\n",
       "  'five',\n",
       "  'mln',\n",
       "  'mln',\n",
       "  'shares',\n",
       "  'reuter'],\n",
       " ['computer',\n",
       "  'terminal',\n",
       "  'systems',\n",
       "  'cpml',\n",
       "  'completes',\n",
       "  'sale',\n",
       "  'computer',\n",
       "  'terminal',\n",
       "  'systems',\n",
       "  'inc',\n",
       "  'said',\n",
       "  'completed',\n",
       "  'sale',\n",
       "  'shares',\n",
       "  'common',\n",
       "  'stock',\n",
       "  'warrants',\n",
       "  'acquire',\n",
       "  'additional',\n",
       "  'one',\n",
       "  'mln',\n",
       "  'shares',\n",
       "  'sedio',\n",
       "  'n',\n",
       "  'v',\n",
       "  'lugano',\n",
       "  'switzerland',\n",
       "  'dlrs',\n",
       "  'company',\n",
       "  'said',\n",
       "  'warrants',\n",
       "  'exercisable',\n",
       "  'five',\n",
       "  'years',\n",
       "  'purchase',\n",
       "  'price',\n",
       "  'dlrs',\n",
       "  'per',\n",
       "  'share',\n",
       "  'computer',\n",
       "  'terminal',\n",
       "  'said',\n",
       "  'sedio',\n",
       "  'also',\n",
       "  'right',\n",
       "  'buy',\n",
       "  'additional',\n",
       "  'shares',\n",
       "  'increase',\n",
       "  'total',\n",
       "  'holdings',\n",
       "  'pct',\n",
       "  'computer',\n",
       "  'terminal',\n",
       "  'outstanding',\n",
       "  'common',\n",
       "  'stock',\n",
       "  'certain',\n",
       "  'circumstances',\n",
       "  'involving',\n",
       "  'change',\n",
       "  'control',\n",
       "  'company',\n",
       "  'company',\n",
       "  'said',\n",
       "  'conditions',\n",
       "  'occur',\n",
       "  'warrants',\n",
       "  'would',\n",
       "  'exercisable',\n",
       "  'price',\n",
       "  'equal',\n",
       "  'pct',\n",
       "  'common',\n",
       "  'stock',\n",
       "  'market',\n",
       "  'price',\n",
       "  'time',\n",
       "  'exceed',\n",
       "  'dlrs',\n",
       "  'per',\n",
       "  'share',\n",
       "  'computer',\n",
       "  'terminal',\n",
       "  'also',\n",
       "  'said',\n",
       "  'sold',\n",
       "  'technolgy',\n",
       "  'rights',\n",
       "  'dot',\n",
       "  'matrix',\n",
       "  'impact',\n",
       "  'technology',\n",
       "  'including',\n",
       "  'future',\n",
       "  'improvements',\n",
       "  'woodco',\n",
       "  'inc',\n",
       "  'houston',\n",
       "  'tex',\n",
       "  'dlrs',\n",
       "  'said',\n",
       "  'would',\n",
       "  'continue',\n",
       "  'exclusive',\n",
       "  'worldwide',\n",
       "  'licensee',\n",
       "  'technology',\n",
       "  'woodco',\n",
       "  'company',\n",
       "  'said',\n",
       "  'moves',\n",
       "  'part',\n",
       "  'reorganization',\n",
       "  'plan',\n",
       "  'would',\n",
       "  'help',\n",
       "  'pay',\n",
       "  'current',\n",
       "  'operation',\n",
       "  'costs',\n",
       "  'ensure',\n",
       "  'product',\n",
       "  'delivery',\n",
       "  'computer',\n",
       "  'terminal',\n",
       "  'makes',\n",
       "  'computer',\n",
       "  'generated',\n",
       "  'labels',\n",
       "  'forms',\n",
       "  'tags',\n",
       "  'ticket',\n",
       "  'printers',\n",
       "  'terminals',\n",
       "  'reuter']]"
      ]
     },
     "execution_count": 23,
     "metadata": {},
     "output_type": "execute_result"
    }
   ],
   "source": [
    "article_delstop[:2]"
   ]
  },
  {
   "cell_type": "markdown",
   "metadata": {},
   "source": [
    "Feature engineering: Use TF-IDF to represent each document.\n",
    "Instantiate TF-IDF vectorizer with 3000 vocabulary size.\n"
   ]
  },
  {
   "cell_type": "code",
   "execution_count": 24,
   "metadata": {},
   "outputs": [],
   "source": [
    "from sklearn.feature_extraction.text import TfidfVectorizer\n",
    "vectorizer=TfidfVectorizer(max_features=3000)\n"
   ]
  },
  {
   "cell_type": "code",
   "execution_count": 25,
   "metadata": {},
   "outputs": [
    {
     "data": {
      "text/plain": [
       "TfidfVectorizer(max_features=3000)"
      ]
     },
     "execution_count": 25,
     "metadata": {},
     "output_type": "execute_result"
    }
   ],
   "source": [
    "vectorizer"
   ]
  },
  {
   "cell_type": "markdown",
   "metadata": {},
   "source": [
    "The vectorizer needs the strings, not vectors. Join the tokens into the string for each article.\n"
   ]
  },
  {
   "cell_type": "code",
   "execution_count": 26,
   "metadata": {},
   "outputs": [
    {
     "data": {
      "text/plain": [
       "['champion products ch approves stock split champion products inc said board directors approved two one stock split common shares shareholders record april company also said board voted recommend shareholders annual meeting april increase authorized capital stock five mln mln shares reuter',\n",
       " 'computer terminal systems cpml completes sale computer terminal systems inc said completed sale shares common stock warrants acquire additional one mln shares sedio n v lugano switzerland dlrs company said warrants exercisable five years purchase price dlrs per share computer terminal said sedio also right buy additional shares increase total holdings pct computer terminal outstanding common stock certain circumstances involving change control company company said conditions occur warrants would exercisable price equal pct common stock market price time exceed dlrs per share computer terminal also said sold technolgy rights dot matrix impact technology including future improvements woodco inc houston tex dlrs said would continue exclusive worldwide licensee technology woodco company said moves part reorganization plan would help pay current operation costs ensure product delivery computer terminal makes computer generated labels forms tags ticket printers terminals reuter',\n",
       " 'cobanco inc cbco year net shr cts vs dlrs net vs assets mln vs mln deposits mln vs mln loans mln vs mln note th qtr available year includes extraordinary gain tax carry forward dlrs five cts per shr reuter']"
      ]
     },
     "execution_count": 26,
     "metadata": {},
     "output_type": "execute_result"
    }
   ],
   "source": [
    "articles_string = [\" \".join(art) for art in article_delstop]\n",
    "articles_string[:3]\n",
    "\n"
   ]
  },
  {
   "cell_type": "markdown",
   "metadata": {},
   "source": [
    "Apply TF-IDF vectorization on the articles and  determine the shape of the matrix.\n"
   ]
  },
  {
   "cell_type": "code",
   "execution_count": 27,
   "metadata": {},
   "outputs": [
    {
     "data": {
      "text/plain": [
       "(5485, 3000)"
      ]
     },
     "execution_count": 27,
     "metadata": {},
     "output_type": "execute_result"
    }
   ],
   "source": [
    "articles_tfidf =vectorizer.fit_transform(articles_string)\n",
    "articles_tfidf.shape\n"
   ]
  },
  {
   "cell_type": "markdown",
   "metadata": {},
   "source": [
    "Convert it to dense matrix:  The output is currently a sparse matrix, \n",
    "convert it to a dense matrix for ease of access"
   ]
  },
  {
   "cell_type": "code",
   "execution_count": 30,
   "metadata": {},
   "outputs": [
    {
     "data": {
      "text/plain": [
       "numpy.matrix"
      ]
     },
     "execution_count": 30,
     "metadata": {},
     "output_type": "execute_result"
    }
   ],
   "source": [
    "tfidf_dense = articles_tfidf.todense()\n",
    "type(tfidf_dense)\n"
   ]
  },
  {
   "cell_type": "markdown",
   "metadata": {},
   "source": [
    "In this representation, we can now compute the similarity between any two articles which are now vectors.\n",
    "Calculate cosine similarity between fourth and fifth  articles (index three  and four)\n",
    "What score do you get? Does it make sense? (you’ll need to look at the strings to assess).\n"
   ]
  },
  {
   "cell_type": "code",
   "execution_count": 32,
   "metadata": {},
   "outputs": [
    {
     "data": {
      "text/plain": [
       "array([[0.51969816]])"
      ]
     },
     "execution_count": 32,
     "metadata": {},
     "output_type": "execute_result"
    }
   ],
   "source": [
    "from sklearn.metrics.pairwise import cosine_similarity\n",
    "#Checking the similarity between rows 4 and 5\n",
    "cosine_similarity(tfidf_dense[3,:], tfidf_dense[4,:])\n"
   ]
  },
  {
   "cell_type": "code",
   "execution_count": 33,
   "metadata": {},
   "outputs": [
    {
     "data": {
      "text/plain": [
       "['international inc nd qtr jan oper shr loss two cts vs profit seven cts oper shr profit vs profit revs mln vs mln avg shrs mln vs mln six mths oper shr profit nil vs profit cts oper net profit vs profit revs mln vs mln avg shrs mln vs mln note per shr calculated payment preferred dividends results exclude credits four cts nine cts qtr six mths vs six cts cts prior periods operating loss carryforwards reuter',\n",
       " 'brown forman inc bfd th qtr net shr one dlr vs cts net mln vs mln revs mln vs mln nine mths shr dlrs vs dlrs net mln vs mln revs billion vs mln reuter']"
      ]
     },
     "execution_count": 33,
     "metadata": {},
     "output_type": "execute_result"
    }
   ],
   "source": [
    "#This is good similarity. Let’s have a look at the strings to see if it makes sense.\n",
    "articles_string[3:5]\n"
   ]
  },
  {
   "cell_type": "markdown",
   "metadata": {},
   "source": [
    "Search engine: Find the five most relevant articles for any given query, fetch the text against them. Define a function that does the following: \n",
    "For any given input string, get the TF-IDF vector.\n",
    "We’ll define a function ‘get_top5_query’ which takes in the input s ‘qry’.\n",
    "Creating the Tf-Idf vector for the input string.\n"
   ]
  },
  {
   "cell_type": "markdown",
   "metadata": {},
   "source": [
    "Defining function to -\n",
    "\n",
    "a. For any given row number, extract the TfIdf vector\n",
    "\n",
    "b. Compute similarity of this vector with all the others\n",
    "\n",
    "c. Get indices of the top 5 matches\n",
    "\n",
    "d. Return the text for the top 5 matches, and the text of the target row\n",
    "\n"
   ]
  },
  {
   "cell_type": "code",
   "execution_count": 35,
   "metadata": {},
   "outputs": [
    {
     "name": "stdout",
     "output_type": "stream",
     "text": [
      "brown forman inc bfd th qtr net shr one dlr vs cts net mln vs mln revs mln vs mln nine mths shr dlrs vs dlrs net mln vs mln revs billion vs mln reuter\n"
     ]
    }
   ],
   "source": [
    "target_row = 4\n",
    "target_vector = tfidf_dense[target_row,:]\n",
    "\n",
    "print(articles_string[target_row])"
   ]
  },
  {
   "cell_type": "markdown",
   "metadata": {},
   "source": [
    "Compute similarity between  this vector and  all the others.\n",
    "Using a list and iterating over the vectors in the TfIdf matrix, storing the similarity in the list.\n"
   ]
  },
  {
   "cell_type": "code",
   "execution_count": 36,
   "metadata": {},
   "outputs": [],
   "source": [
    "sim_scores = []\n",
    "\n",
    "for ind, vector in enumerate(tfidf_dense):\n",
    "    sim = cosine_similarity(target_vector, tfidf_dense[ind,:])[0][0]\n",
    "    sim_scores.append(sim)"
   ]
  },
  {
   "cell_type": "markdown",
   "metadata": {},
   "source": [
    "Making a pandas series of similarity scores for easy manipulation\n",
    "\n"
   ]
  },
  {
   "cell_type": "code",
   "execution_count": 37,
   "metadata": {},
   "outputs": [
    {
     "data": {
      "text/plain": [
       "5485"
      ]
     },
     "execution_count": 37,
     "metadata": {},
     "output_type": "execute_result"
    }
   ],
   "source": [
    "len(sim_scores)"
   ]
  },
  {
   "cell_type": "code",
   "execution_count": 38,
   "metadata": {},
   "outputs": [
    {
     "data": {
      "text/plain": [
       "5485"
      ]
     },
     "execution_count": 38,
     "metadata": {},
     "output_type": "execute_result"
    }
   ],
   "source": [
    "tfidf_dense.shape[0]"
   ]
  },
  {
   "cell_type": "code",
   "execution_count": 39,
   "metadata": {},
   "outputs": [
    {
     "data": {
      "text/plain": [
       "0    0.076767\n",
       "1    0.037874\n",
       "2    0.619848\n",
       "3    0.519698\n",
       "4    1.000000\n",
       "dtype: float64"
      ]
     },
     "execution_count": 39,
     "metadata": {},
     "output_type": "execute_result"
    }
   ],
   "source": [
    "similarity = pd.Series(sim_scores)\n",
    "similarity.head()"
   ]
  },
  {
   "cell_type": "code",
   "execution_count": 40,
   "metadata": {},
   "outputs": [],
   "source": [
    "top5_scores = similarity.sort_values(ascending=False).head(6)[1:]"
   ]
  },
  {
   "cell_type": "code",
   "execution_count": 41,
   "metadata": {},
   "outputs": [
    {
     "data": {
      "text/plain": [
       "3633    0.895294\n",
       "1526    0.884519\n",
       "3939    0.873976\n",
       "3686    0.871784\n",
       "427     0.871580\n",
       "dtype: float64"
      ]
     },
     "execution_count": 41,
     "metadata": {},
     "output_type": "execute_result"
    }
   ],
   "source": [
    "top5_scores "
   ]
  },
  {
   "cell_type": "code",
   "execution_count": 42,
   "metadata": {},
   "outputs": [
    {
     "data": {
      "text/plain": [
       "array([3633, 1526, 3939, 3686,  427])"
      ]
     },
     "execution_count": 42,
     "metadata": {},
     "output_type": "execute_result"
    }
   ],
   "source": [
    "top5_index = top5_scores.index.values\n",
    "top5_index"
   ]
  },
  {
   "cell_type": "code",
   "execution_count": 43,
   "metadata": {},
   "outputs": [
    {
     "name": "stdout",
     "output_type": "stream",
     "text": [
      "Similarity score:0.9\n",
      "Article text: technitrol inc tnl th qtr shr cts vs cts net mln vs revs mln vs mln year shr dlrs vs dlrs net mln vs mln revs mln vs mln reuter\n",
      "\n",
      "Similarity score:0.88\n",
      "Article text: vista resources inc vist th qtr net shr dlrs vs one dlr net vs revs mln vs mln mths shr dlrs vs dlrs net vs revs mln vs mln reuter\n",
      "\n",
      "Similarity score:0.87\n",
      "Article text: nike inc nike rd qtr feb net shr cts vs cts net vs mln revs mln vs mln nine mths shr cts vs dlrs net mln vs mln revs mln vs mln reuter\n",
      "\n",
      "Similarity score:0.87\n",
      "Article text: quick reilly group bqr th qtr feb shr cts vs cts net mln vs mln revs mln vs mln year shr dlrs vs dlr net mln vs mln revs mln vs mln reuter\n",
      "\n",
      "Similarity score:0.87\n",
      "Article text: kay jewelers inc kji th qtr net shr dlrs vs dlrs net mln vs revs mln vs mln year shr dlrs vs dlrs net vs revs mln vs mln reuter\n",
      "\n"
     ]
    }
   ],
   "source": [
    "for ind in top5_index:\n",
    "    print(\"Similarity score:\" + str(round(top5_scores[ind],2)) + \"\\n\" + \"Article text: \" + articles_string[ind] + \"\\n\")"
   ]
  },
  {
   "cell_type": "code",
   "execution_count": 44,
   "metadata": {},
   "outputs": [],
   "source": [
    "def get_top5(target_row):\n",
    "    target_vector = tfidf_dense[target_row,:]\n",
    "    \n",
    "    sim_scores = []\n",
    "    for ind, vector in enumerate(tfidf_dense):\n",
    "        sim = cosine_similarity(target_vector, tfidf_dense[ind,:])[0][0]\n",
    "        sim_scores.append(sim)\n",
    "    \n",
    "    \n",
    "    similarity = pd.Series(sim_scores)\n",
    "    top5_scores = similarity.sort_values(ascending=False).head(6)[1:]\n",
    "    top5_index = top5_scores.index.values\n",
    "    \n",
    "    for ind in top5_index:\n",
    "        print(\"Similarity score:\" + str(round(top5_scores[ind],2)) + \"\\n\" + \"Article text: \" + articles_string[ind] + \"\\n\")"
   ]
  },
  {
   "cell_type": "code",
   "execution_count": 45,
   "metadata": {},
   "outputs": [
    {
     "name": "stdout",
     "output_type": "stream",
     "text": [
      "Similarity score:0.9\n",
      "Article text: technitrol inc tnl th qtr shr cts vs cts net mln vs revs mln vs mln year shr dlrs vs dlrs net mln vs mln revs mln vs mln reuter\n",
      "\n",
      "Similarity score:0.88\n",
      "Article text: vista resources inc vist th qtr net shr dlrs vs one dlr net vs revs mln vs mln mths shr dlrs vs dlrs net vs revs mln vs mln reuter\n",
      "\n",
      "Similarity score:0.87\n",
      "Article text: nike inc nike rd qtr feb net shr cts vs cts net vs mln revs mln vs mln nine mths shr cts vs dlrs net mln vs mln revs mln vs mln reuter\n",
      "\n",
      "Similarity score:0.87\n",
      "Article text: quick reilly group bqr th qtr feb shr cts vs cts net mln vs mln revs mln vs mln year shr dlrs vs dlr net mln vs mln revs mln vs mln reuter\n",
      "\n",
      "Similarity score:0.87\n",
      "Article text: kay jewelers inc kji th qtr net shr dlrs vs dlrs net mln vs revs mln vs mln year shr dlrs vs dlrs net vs revs mln vs mln reuter\n",
      "\n"
     ]
    }
   ],
   "source": [
    "get_top5(4)\n"
   ]
  },
  {
   "cell_type": "code",
   "execution_count": 47,
   "metadata": {},
   "outputs": [
    {
     "name": "stdout",
     "output_type": "stream",
     "text": [
      "Similarity score:0.9\n",
      "Article text: technitrol inc tnl th qtr shr cts vs cts net mln vs revs mln vs mln year shr dlrs vs dlrs net mln vs mln revs mln vs mln reuter\n",
      "\n",
      "Similarity score:0.88\n",
      "Article text: vista resources inc vist th qtr net shr dlrs vs one dlr net vs revs mln vs mln mths shr dlrs vs dlrs net vs revs mln vs mln reuter\n",
      "\n",
      "Similarity score:0.87\n",
      "Article text: nike inc nike rd qtr feb net shr cts vs cts net vs mln revs mln vs mln nine mths shr cts vs dlrs net mln vs mln revs mln vs mln reuter\n",
      "\n",
      "Similarity score:0.87\n",
      "Article text: quick reilly group bqr th qtr feb shr cts vs cts net mln vs mln revs mln vs mln year shr dlrs vs dlr net mln vs mln revs mln vs mln reuter\n",
      "\n",
      "Similarity score:0.87\n",
      "Article text: kay jewelers inc kji th qtr net shr dlrs vs dlrs net mln vs revs mln vs mln year shr dlrs vs dlrs net vs revs mln vs mln reuter\n",
      "\n"
     ]
    }
   ],
   "source": [
    "for ind in top5_index:\n",
    "    print(\"Similarity score:\" + str(round(top5_scores[ind],2)) + \"\\n\" + \"Article text: \" + articles_string[ind] + \"\\n\")"
   ]
  },
  {
   "cell_type": "code",
   "execution_count": 48,
   "metadata": {},
   "outputs": [],
   "source": [
    "def get_top5_query(qry):\n",
    "    #target_vector = tfidf_dense[target_row,:]\n",
    "    target_vector = vectorizer.transform([qry])\n",
    "    \n",
    "    sim_scores = []\n",
    "    for ind, vector in enumerate(tfidf_dense):\n",
    "        sim = cosine_similarity(target_vector, tfidf_dense[ind,:])[0][0]\n",
    "        sim_scores.append(sim)\n",
    "    \n",
    "    similarity = pd.Series(sim_scores)\n",
    "    top5_scores = similarity.sort_values(ascending=False).head(5)\n",
    "    top5_index = top5_scores.index.values\n",
    "    \n",
    "    print(\"Search query: \" + qry + \"\\n\")\n",
    "    \n",
    "    for ind in top5_index:\n",
    "        print(\"Similarity score:\" + str(round(top5_scores[ind],2)) + \"\\n\" + \"Article text: \" + articles_string[ind] + \"\\n\")"
   ]
  },
  {
   "cell_type": "code",
   "execution_count": 49,
   "metadata": {},
   "outputs": [
    {
     "name": "stdout",
     "output_type": "stream",
     "text": [
      "Search query: crude oil price\n",
      "\n",
      "Similarity score:0.49\n",
      "Article text: phillips p raises crude postings cts phillips petroleum said raised contract price grades crude oil cts barrel effective today increase brings phillip posted price west texas intermediate west texas sour grades dlrs bbl phillips last changed crude oil postings march price increase follows similar moves usx x subsidiary marathon oil sun co sun earlier today reuter\n",
      "\n",
      "Similarity score:0.44\n",
      "Article text: marathon petroleum reduces crude postings marathon petroleum co said reduced contract price pay grades crude oil one dlr barrel effective today decrease brings marathon posted price west texas intermediate west texas sour dlrs bbl south louisiana sweet grade crude reduced dlrs bbl company last changed crude postings jan reuter\n",
      "\n",
      "Similarity score:0.43\n",
      "Article text: diamond shamrock dia cuts crude prices diamond shamrock corp said effective today cut contract prices crude oil dlrs barrel reduction brings posted price west texas intermediate dlrs barrel copany said price reduction today made light falling oil product prices weak crude oil market company spokeswoman said diamond latest line u oil companies cut contract posted prices last two days citing weak oil markets reuter\n",
      "\n",
      "Similarity score:0.41\n",
      "Article text: imperial oil imo talks suppliers imperial oil ltd pct owned exxon corp xon negotiating major crude oil suppliers concerning effects trial deregulation alberta shut crude oil production scheduled implemented june company spokesman said point view question entering negotiations discussions make appropriate changes contracts reflect changes going take place june spokesman john cote told reuters reply query commenting published reports imperial suspended oil supply contracts cote said question cancelling suspending agreements point june alberta energy resources conservation board lift crude oil marketing prorationing system regulating shut light medium crude production trial basis end new system producers refiners allowed negotiate volumes shut oil delivered purchase contracts shut crude surplus total amount oil produced amount purchased refiners talked number major suppliers discussed upcoming change nothing finalized imperial manager western crude supply gary strong said alberta trial system imperial wants match reasonable supply crude company forecast demand refineries strong said know relates need total said strong said figures amount crude production imperial purchases outside suppliers immediately available reuter\n",
      "\n",
      "Similarity score:0.4\n",
      "Article text: texaco canada txc lowers crude postings texaco canada said lowered contract price pay crude oil canadian cts barrel effective today decrease brings company posted price benchmark grade edmonton swann hills light sweet canadian dlrs bbl texaco canada last changed crude oil postings feb reuter\n",
      "\n"
     ]
    }
   ],
   "source": [
    "get_top5_query(\"crude oil price\")"
   ]
  },
  {
   "cell_type": "code",
   "execution_count": 50,
   "metadata": {},
   "outputs": [
    {
     "name": "stdout",
     "output_type": "stream",
     "text": [
      "Search query: computer systems\n",
      "\n",
      "Similarity score:0.55\n",
      "Article text: vertex vetx buy computer transceiver stake vertex industries inc computer transceiver systems inc jointly announced agreement vertex acquire pct interest computer completes proposed reorganization computer reorganization proceedings chapter since september companies said agreement would allow computer unsecured creditors debenture holders receive new stock exchange exsiting debt shareholders receive one new share computer stock four shares previously held companies said united states bankruptcy court southern district new york given preliminary approval proposal subject formal approval computer creditors court agreement vertex also said would supply computer dlrs operating funds arrange renegotiation secured bank debt among things reuter\n",
      "\n",
      "Similarity score:0.53\n",
      "Article text: aw computer systems inc awcsa year end dec shr cts vs cts net vs revs vs reuter\n",
      "\n",
      "Similarity score:0.48\n",
      "Article text: hogan systems hogn acquisition hogan systems inc said acquired systems inc durango colo mln dlrs hogan said systems provides integrated applications software processing services community banks systems revenues mln dlrs year hogan said reuter\n",
      "\n",
      "Similarity score:0.48\n",
      "Article text: altex aii sets acquisition computer firms altex industries inc said agreed principle buy pct two privately held affiliated computer retail companies undisclosed amount altex said denver based companies revenues seven mln dlrs last year integrated management data systems inc sells accounting software systems oil gas industry integrated management systems micro distribution division inc distributes micro computer products altex said expects close transaction subject financing july reuter\n",
      "\n",
      "Similarity score:0.46\n",
      "Article text: sci scis buys fortune fsys computer assets fortune systems corp sci systems inc said signed letter intent covering purchase fortune microcomputer business assets unspecified amount cash fortune systems makes desktop computer systems reuter\n",
      "\n"
     ]
    }
   ],
   "source": [
    "get_top5_query(\"computer systems\")"
   ]
  },
  {
   "cell_type": "code",
   "execution_count": null,
   "metadata": {},
   "outputs": [],
   "source": []
  }
 ],
 "metadata": {
  "kernelspec": {
   "display_name": "Python 3",
   "language": "python",
   "name": "python3"
  },
  "language_info": {
   "codemirror_mode": {
    "name": "ipython",
    "version": 3
   },
   "file_extension": ".py",
   "mimetype": "text/x-python",
   "name": "python",
   "nbconvert_exporter": "python",
   "pygments_lexer": "ipython3",
   "version": "3.7.6"
  }
 },
 "nbformat": 4,
 "nbformat_minor": 4
}
