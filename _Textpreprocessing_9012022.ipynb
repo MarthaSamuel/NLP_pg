{
 "cells": [
  {
   "cell_type": "code",
   "execution_count": 1,
   "metadata": {},
   "outputs": [],
   "source": [
    "import nltk"
   ]
  },
  {
   "cell_type": "code",
   "execution_count": 2,
   "metadata": {},
   "outputs": [],
   "source": [
    "filename = 'FP.txt'\n",
    "file = open(filename, 'rt')#rt means to read a file as text\n",
    "text = file.read()\n",
    "file.close()"
   ]
  },
  {
   "cell_type": "code",
   "execution_count": 3,
   "metadata": {},
   "outputs": [
    {
     "name": "stdout",
     "output_type": "stream",
     "text": [
      "﻿This is financial Report of 2019-2020\n",
      "\n",
      "\n",
      "\n",
      "The share of large borrowers in Indian banks’ total loan portfolios stood at 53% as on March 2019\n",
      "\n",
      "The gross non-performing assets (NPAs) as a percentage of total loans stood at 9.3% as on March 2019\n",
      "\n",
      "Mumbai: Indian banks continue to see an improvement in asset quality with bad loans as a percentage of total loans expected to fall to 9% by March 2020, according to the Financial Stability Report released by the Reserve Bank of India (RBI) on Thursday.\n"
     ]
    }
   ],
   "source": [
    "#split into sentences\n",
    "from nltk import sent_tokenize# for sentence tokenization\n",
    "sentences = sent_tokenize(text)\n",
    "print(sentences[0])"
   ]
  },
  {
   "cell_type": "code",
   "execution_count": 4,
   "metadata": {},
   "outputs": [
    {
     "name": "stdout",
     "output_type": "stream",
     "text": [
      "The gross non-performing assets (NPAs) as a percentage of total loans stood at 9.3% as on March 2019.\n"
     ]
    }
   ],
   "source": [
    "print(sentences[1])"
   ]
  },
  {
   "cell_type": "code",
   "execution_count": 7,
   "metadata": {},
   "outputs": [
    {
     "name": "stdout",
     "output_type": "stream",
     "text": [
      "According to the bi-annual report, stress tests done on public sector banks (PSBs) revealed that gross non-performing ratio may decline to 12% by March 2020 from 12.6% in March 2019.\n"
     ]
    }
   ],
   "source": [
    "print(sentences[2])"
   ]
  },
  {
   "cell_type": "code",
   "execution_count": 8,
   "metadata": {},
   "outputs": [
    {
     "name": "stdout",
     "output_type": "stream",
     "text": [
      "['\\ufeffThis', 'is', 'financial', 'Report', 'of', '2019-2020', 'The', 'share', 'of', 'large', 'borrowers', 'in', 'Indian', 'banks', '’', 'total', 'loan', 'portfolios', 'stood', 'at', '53', '%', 'as', 'on', 'March', '2019', 'The', 'gross', 'non-performing', 'assets', '(', 'NPAs', ')', 'as', 'a', 'percentage', 'of', 'total', 'loans', 'stood', 'at', '9.3', '%', 'as', 'on', 'March', '2019', 'Mumbai', ':', 'Indian', 'banks', 'continue', 'to', 'see', 'an', 'improvement', 'in', 'asset', 'quality', 'with', 'bad', 'loans', 'as', 'a', 'percentage', 'of', 'total', 'loans', 'expected', 'to', 'fall', 'to', '9', '%', 'by', 'March', '2020', ',', 'according', 'to', 'the', 'Financial', 'Stability', 'Report', 'released', 'by', 'the', 'Reserve', 'Bank', 'of', 'India', '(', 'RBI', ')', 'on', 'Thursday', '.', 'The', 'gross', 'non-performing']\n"
     ]
    }
   ],
   "source": [
    "from nltk.tokenize import word_tokenize\n",
    "tokens = word_tokenize(text)\n",
    "print(tokens[:100])"
   ]
  },
  {
   "cell_type": "code",
   "execution_count": 10,
   "metadata": {},
   "outputs": [
    {
     "name": "stdout",
     "output_type": "stream",
     "text": [
      "['is', 'financial', 'Report', 'of', 'The', 'share', 'of', 'large', 'borrowers', 'in', 'Indian', 'banks', 'total', 'loan', 'portfolios', 'stood', 'at', 'as', 'on', 'March', 'The', 'gross', 'assets', 'NPAs', 'as', 'a', 'percentage', 'of', 'total', 'loans', 'stood', 'at', 'as', 'on', 'March', 'Mumbai', 'Indian', 'banks', 'continue', 'to', 'see', 'an', 'improvement', 'in', 'asset', 'quality', 'with', 'bad', 'loans', 'as', 'a', 'percentage', 'of', 'total', 'loans', 'expected', 'to', 'fall', 'to', 'by', 'March', 'according', 'to', 'the', 'Financial', 'Stability', 'Report', 'released', 'by', 'the', 'Reserve', 'Bank', 'of', 'India', 'RBI', 'on', 'Thursday', 'The', 'gross', 'assets', 'NPAs', 'as', 'a', 'percentage', 'of', 'total', 'loans', 'stood', 'at', 'as', 'on', 'March', 'According', 'to', 'the', 'report', 'stress', 'tests', 'done', 'on']\n"
     ]
    }
   ],
   "source": [
    "words = [word for word in tokens if word.isalpha()] # to display only alphabetical tokens\n",
    "print(words[:100])"
   ]
  },
  {
   "cell_type": "code",
   "execution_count": 11,
   "metadata": {},
   "outputs": [
    {
     "name": "stdout",
     "output_type": "stream",
     "text": [
      "['i', 'me', 'my', 'myself', 'we', 'our', 'ours', 'ourselves', 'you', \"you're\", \"you've\", \"you'll\", \"you'd\", 'your', 'yours', 'yourself', 'yourselves', 'he', 'him', 'his', 'himself', 'she', \"she's\", 'her', 'hers', 'herself', 'it', \"it's\", 'its', 'itself', 'they', 'them', 'their', 'theirs', 'themselves', 'what', 'which', 'who', 'whom', 'this', 'that', \"that'll\", 'these', 'those', 'am', 'is', 'are', 'was', 'were', 'be', 'been', 'being', 'have', 'has', 'had', 'having', 'do', 'does', 'did', 'doing', 'a', 'an', 'the', 'and', 'but', 'if', 'or', 'because', 'as', 'until', 'while', 'of', 'at', 'by', 'for', 'with', 'about', 'against', 'between', 'into', 'through', 'during', 'before', 'after', 'above', 'below', 'to', 'from', 'up', 'down', 'in', 'out', 'on', 'off', 'over', 'under', 'again', 'further', 'then', 'once', 'here', 'there', 'when', 'where', 'why', 'how', 'all', 'any', 'both', 'each', 'few', 'more', 'most', 'other', 'some', 'such', 'no', 'nor', 'not', 'only', 'own', 'same', 'so', 'than', 'too', 'very', 's', 't', 'can', 'will', 'just', 'don', \"don't\", 'should', \"should've\", 'now', 'd', 'll', 'm', 'o', 're', 've', 'y', 'ain', 'aren', \"aren't\", 'couldn', \"couldn't\", 'didn', \"didn't\", 'doesn', \"doesn't\", 'hadn', \"hadn't\", 'hasn', \"hasn't\", 'haven', \"haven't\", 'isn', \"isn't\", 'ma', 'mightn', \"mightn't\", 'mustn', \"mustn't\", 'needn', \"needn't\", 'shan', \"shan't\", 'shouldn', \"shouldn't\", 'wasn', \"wasn't\", 'weren', \"weren't\", 'won', \"won't\", 'wouldn', \"wouldn't\"]\n"
     ]
    }
   ],
   "source": [
    "#see stopwords\n",
    "from nltk.corpus import stopwords\n",
    "stop_words = stopwords.words('english')\n",
    "print(stop_words)"
   ]
  },
  {
   "cell_type": "code",
   "execution_count": 12,
   "metadata": {},
   "outputs": [
    {
     "name": "stdout",
     "output_type": "stream",
     "text": [
      "['\\ufeffthi', 'is', 'financi', 'report', 'of', '2019-2020', 'the', 'share', 'of', 'larg', 'borrow', 'in', 'indian', 'bank', '’', 'total', 'loan', 'portfolio', 'stood', 'at', '53', '%', 'as', 'on', 'march', '2019', 'the', 'gross', 'non-perform', 'asset', '(', 'npa', ')', 'as', 'a', 'percentag', 'of', 'total', 'loan', 'stood', 'at', '9.3', '%', 'as', 'on', 'march', '2019', 'mumbai', ':', 'indian', 'bank', 'continu', 'to', 'see', 'an', 'improv', 'in', 'asset', 'qualiti', 'with', 'bad', 'loan', 'as', 'a', 'percentag', 'of', 'total', 'loan', 'expect', 'to', 'fall', 'to', '9', '%', 'by', 'march', '2020', ',', 'accord', 'to', 'the', 'financi', 'stabil', 'report', 'releas', 'by', 'the', 'reserv', 'bank', 'of', 'india', '(', 'rbi', ')', 'on', 'thursday', '.', 'the', 'gross', 'non-perform']\n"
     ]
    }
   ],
   "source": [
    "#stemming of words\n",
    "from nltk.stem.porter import PorterStemmer\n",
    "porter = PorterStemmer()\n",
    "stemmed = [porter.stem(word) for word in tokens]\n",
    "print(stemmed[:100])"
   ]
  },
  {
   "cell_type": "code",
   "execution_count": 17,
   "metadata": {},
   "outputs": [
    {
     "name": "stdout",
     "output_type": "stream",
     "text": [
      "remove numbers : Team A has  batmen and  bowlers\n",
      "sente has come\n"
     ]
    }
   ],
   "source": [
    "import re, string\n",
    "input_str = 'Team A has 6 batmen and 5 bowlers'\n",
    "in_str = 'sente. has, come?'\n",
    "output = re.sub(r'\\d+', '', input_str)\n",
    "out = re.sub('[%s]' % re.escape(string.punctuation), '', in_str)\n",
    "print('remove numbers :', output)\n",
    "print(out)"
   ]
  },
  {
   "cell_type": "code",
   "execution_count": null,
   "metadata": {},
   "outputs": [],
   "source": []
  }
 ],
 "metadata": {
  "kernelspec": {
   "display_name": "Python 3",
   "language": "python",
   "name": "python3"
  },
  "language_info": {
   "codemirror_mode": {
    "name": "ipython",
    "version": 3
   },
   "file_extension": ".py",
   "mimetype": "text/x-python",
   "name": "python",
   "nbconvert_exporter": "python",
   "pygments_lexer": "ipython3",
   "version": "3.7.6"
  }
 },
 "nbformat": 4,
 "nbformat_minor": 4
}
